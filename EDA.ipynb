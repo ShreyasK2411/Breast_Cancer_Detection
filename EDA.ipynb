{
 "cells": [
  {
   "cell_type": "code",
   "execution_count": 1,
   "id": "1803db79",
   "metadata": {},
   "outputs": [
    {
     "data": {
      "text/plain": [
       "\"\\n1. site_id - ID code for the source hospital.\\n2. patient_id - ID code for the patient.\\n3. image_id - ID code for the image.\\n4. laterality - Whether the image is of the left or right breast.\\n5. view - The orientation of the image. The default for a screening exam is to capture two views per breast.\\n6. age - The patient's age in years.\\n7. implant - Whether or not the patient had breast implants. Site 1 only provides breast implant information at the patient level, not at the breast level.\\n8. density - A rating for how dense the breast tissue is, with A being the least dense and D being the most dense. Extremely dense tissue can make diagnosis more difficult. Only provided for train.\\n9. machine_id - An ID code for the imaging device.\\n10. cancer - Whether or not the breast was positive for malignant cancer. The target value. Only provided for train.\\n11. biopsy - Whether or not a follow-up biopsy was performed on the breast. Only provided for train.\\n12. invasive - If the breast is positive for cancer, whether or not the cancer proved to be invasive. Only provided for train.\\n13. BIRADS - 0 if the breast required follow-up, 1 if the breast was rated as negative for cancer, and 2 if the breast was rated as normal. Only provided for train.\\n14. prediction_id - The ID for the matching submission row. Multiple images will share the same prediction ID. Test only.\\n15. difficult_negative_case - True if the case was unusually difficult. Only provided for train.\\n\""
      ]
     },
     "execution_count": 1,
     "metadata": {},
     "output_type": "execute_result"
    }
   ],
   "source": [
    "'''\n",
    "1. site_id - ID code for the source hospital.\n",
    "2. patient_id - ID code for the patient.\n",
    "3. image_id - ID code for the image.\n",
    "4. laterality - Whether the image is of the left or right breast.\n",
    "5. view - The orientation of the image. The default for a screening exam is to capture two views per breast.\n",
    "6. age - The patient's age in years.\n",
    "7. implant - Whether or not the patient had breast implants. Site 1 only provides breast implant information at the patient level, not at the breast level.\n",
    "8. density - A rating for how dense the breast tissue is, with A being the least dense and D being the most dense. Extremely dense tissue can make diagnosis more difficult. Only provided for train.\n",
    "9. machine_id - An ID code for the imaging device.\n",
    "10. cancer - Whether or not the breast was positive for malignant cancer. The target value. Only provided for train.\n",
    "11. biopsy - Whether or not a follow-up biopsy was performed on the breast. Only provided for train.\n",
    "12. invasive - If the breast is positive for cancer, whether or not the cancer proved to be invasive. Only provided for train.\n",
    "13. BIRADS - 0 if the breast required follow-up, 1 if the breast was rated as negative for cancer, and 2 if the breast was rated as normal. Only provided for train.\n",
    "14. prediction_id - The ID for the matching submission row. Multiple images will share the same prediction ID. Test only.\n",
    "15. difficult_negative_case - True if the case was unusually difficult. Only provided for train.\n",
    "'''"
   ]
  },
  {
   "cell_type": "code",
   "execution_count": null,
   "id": "e56d5f23",
   "metadata": {},
   "outputs": [],
   "source": [
    "'''Importing the libraries'''"
   ]
  },
  {
   "cell_type": "code",
   "execution_count": 2,
   "id": "1563ca2a",
   "metadata": {},
   "outputs": [],
   "source": [
    "import pandas as pd\n",
    "import seaborn as sns\n",
    "import matplotlib.pyplot as plt"
   ]
  },
  {
   "cell_type": "code",
   "execution_count": 3,
   "id": "b55c83cf",
   "metadata": {},
   "outputs": [],
   "source": [
    "# reading the csv\n",
    "path = 'D:/Project_data/train.csv'\n",
    "df = pd.read_csv(path)"
   ]
  },
  {
   "cell_type": "code",
   "execution_count": null,
   "id": "9d43f91e",
   "metadata": {},
   "outputs": [],
   "source": [
    "'''Getting a view of the data'''"
   ]
  },
  {
   "cell_type": "code",
   "execution_count": 4,
   "id": "5661f9b0",
   "metadata": {},
   "outputs": [
    {
     "data": {
      "text/html": [
       "<div>\n",
       "<style scoped>\n",
       "    .dataframe tbody tr th:only-of-type {\n",
       "        vertical-align: middle;\n",
       "    }\n",
       "\n",
       "    .dataframe tbody tr th {\n",
       "        vertical-align: top;\n",
       "    }\n",
       "\n",
       "    .dataframe thead th {\n",
       "        text-align: right;\n",
       "    }\n",
       "</style>\n",
       "<table border=\"1\" class=\"dataframe\">\n",
       "  <thead>\n",
       "    <tr style=\"text-align: right;\">\n",
       "      <th></th>\n",
       "      <th>site_id</th>\n",
       "      <th>patient_id</th>\n",
       "      <th>image_id</th>\n",
       "      <th>laterality</th>\n",
       "      <th>view</th>\n",
       "      <th>age</th>\n",
       "      <th>cancer</th>\n",
       "      <th>biopsy</th>\n",
       "      <th>invasive</th>\n",
       "      <th>BIRADS</th>\n",
       "      <th>implant</th>\n",
       "      <th>density</th>\n",
       "      <th>machine_id</th>\n",
       "      <th>difficult_negative_case</th>\n",
       "    </tr>\n",
       "  </thead>\n",
       "  <tbody>\n",
       "    <tr>\n",
       "      <th>0</th>\n",
       "      <td>2</td>\n",
       "      <td>10006</td>\n",
       "      <td>462822612</td>\n",
       "      <td>L</td>\n",
       "      <td>CC</td>\n",
       "      <td>61.0</td>\n",
       "      <td>0</td>\n",
       "      <td>0</td>\n",
       "      <td>0</td>\n",
       "      <td>NaN</td>\n",
       "      <td>0</td>\n",
       "      <td>NaN</td>\n",
       "      <td>29</td>\n",
       "      <td>False</td>\n",
       "    </tr>\n",
       "    <tr>\n",
       "      <th>1</th>\n",
       "      <td>2</td>\n",
       "      <td>10006</td>\n",
       "      <td>1459541791</td>\n",
       "      <td>L</td>\n",
       "      <td>MLO</td>\n",
       "      <td>61.0</td>\n",
       "      <td>0</td>\n",
       "      <td>0</td>\n",
       "      <td>0</td>\n",
       "      <td>NaN</td>\n",
       "      <td>0</td>\n",
       "      <td>NaN</td>\n",
       "      <td>29</td>\n",
       "      <td>False</td>\n",
       "    </tr>\n",
       "    <tr>\n",
       "      <th>2</th>\n",
       "      <td>2</td>\n",
       "      <td>10006</td>\n",
       "      <td>1864590858</td>\n",
       "      <td>R</td>\n",
       "      <td>MLO</td>\n",
       "      <td>61.0</td>\n",
       "      <td>0</td>\n",
       "      <td>0</td>\n",
       "      <td>0</td>\n",
       "      <td>NaN</td>\n",
       "      <td>0</td>\n",
       "      <td>NaN</td>\n",
       "      <td>29</td>\n",
       "      <td>False</td>\n",
       "    </tr>\n",
       "    <tr>\n",
       "      <th>3</th>\n",
       "      <td>2</td>\n",
       "      <td>10006</td>\n",
       "      <td>1874946579</td>\n",
       "      <td>R</td>\n",
       "      <td>CC</td>\n",
       "      <td>61.0</td>\n",
       "      <td>0</td>\n",
       "      <td>0</td>\n",
       "      <td>0</td>\n",
       "      <td>NaN</td>\n",
       "      <td>0</td>\n",
       "      <td>NaN</td>\n",
       "      <td>29</td>\n",
       "      <td>False</td>\n",
       "    </tr>\n",
       "    <tr>\n",
       "      <th>4</th>\n",
       "      <td>2</td>\n",
       "      <td>10011</td>\n",
       "      <td>220375232</td>\n",
       "      <td>L</td>\n",
       "      <td>CC</td>\n",
       "      <td>55.0</td>\n",
       "      <td>0</td>\n",
       "      <td>0</td>\n",
       "      <td>0</td>\n",
       "      <td>0.0</td>\n",
       "      <td>0</td>\n",
       "      <td>NaN</td>\n",
       "      <td>21</td>\n",
       "      <td>True</td>\n",
       "    </tr>\n",
       "  </tbody>\n",
       "</table>\n",
       "</div>"
      ],
      "text/plain": [
       "   site_id  patient_id    image_id laterality view   age  cancer  biopsy  \\\n",
       "0        2       10006   462822612          L   CC  61.0       0       0   \n",
       "1        2       10006  1459541791          L  MLO  61.0       0       0   \n",
       "2        2       10006  1864590858          R  MLO  61.0       0       0   \n",
       "3        2       10006  1874946579          R   CC  61.0       0       0   \n",
       "4        2       10011   220375232          L   CC  55.0       0       0   \n",
       "\n",
       "   invasive  BIRADS  implant density  machine_id  difficult_negative_case  \n",
       "0         0     NaN        0     NaN          29                    False  \n",
       "1         0     NaN        0     NaN          29                    False  \n",
       "2         0     NaN        0     NaN          29                    False  \n",
       "3         0     NaN        0     NaN          29                    False  \n",
       "4         0     0.0        0     NaN          21                     True  "
      ]
     },
     "execution_count": 4,
     "metadata": {},
     "output_type": "execute_result"
    }
   ],
   "source": [
    "df.head()"
   ]
  },
  {
   "cell_type": "code",
   "execution_count": 5,
   "id": "1120a228",
   "metadata": {},
   "outputs": [
    {
     "data": {
      "text/plain": [
       "Index(['site_id', 'patient_id', 'image_id', 'laterality', 'view', 'age',\n",
       "       'cancer', 'biopsy', 'invasive', 'BIRADS', 'implant', 'density',\n",
       "       'machine_id', 'difficult_negative_case'],\n",
       "      dtype='object')"
      ]
     },
     "execution_count": 5,
     "metadata": {},
     "output_type": "execute_result"
    }
   ],
   "source": [
    "df.columns"
   ]
  },
  {
   "cell_type": "code",
   "execution_count": 6,
   "id": "be741bac",
   "metadata": {},
   "outputs": [
    {
     "data": {
      "text/plain": [
       "(54706, 14)"
      ]
     },
     "execution_count": 6,
     "metadata": {},
     "output_type": "execute_result"
    }
   ],
   "source": [
    "df.shape # There are total 54706 rows and 14 columns"
   ]
  },
  {
   "cell_type": "code",
   "execution_count": 7,
   "id": "7e63ee98",
   "metadata": {},
   "outputs": [
    {
     "data": {
      "text/plain": [
       "site_id                        0\n",
       "patient_id                     0\n",
       "image_id                       0\n",
       "laterality                     0\n",
       "view                           0\n",
       "age                           37\n",
       "cancer                         0\n",
       "biopsy                         0\n",
       "invasive                       0\n",
       "BIRADS                     28420\n",
       "implant                        0\n",
       "density                    25236\n",
       "machine_id                     0\n",
       "difficult_negative_case        0\n",
       "dtype: int64"
      ]
     },
     "execution_count": 7,
     "metadata": {},
     "output_type": "execute_result"
    }
   ],
   "source": [
    "df.isna().sum()"
   ]
  },
  {
   "cell_type": "code",
   "execution_count": null,
   "id": "3d8c8248",
   "metadata": {},
   "outputs": [],
   "source": [
    "'''Counting the number of patients'''"
   ]
  },
  {
   "cell_type": "code",
   "execution_count": 8,
   "id": "d6dd4c99",
   "metadata": {},
   "outputs": [
    {
     "data": {
      "text/plain": [
       "11913"
      ]
     },
     "execution_count": 8,
     "metadata": {},
     "output_type": "execute_result"
    }
   ],
   "source": [
    "df['patient_id'].nunique()"
   ]
  },
  {
   "cell_type": "code",
   "execution_count": 9,
   "id": "d06531d7",
   "metadata": {},
   "outputs": [
    {
     "data": {
      "text/plain": [
       "array(['CC', 'MLO', 'ML', 'LM', 'AT', 'LMO'], dtype=object)"
      ]
     },
     "execution_count": 9,
     "metadata": {},
     "output_type": "execute_result"
    }
   ],
   "source": [
    "df['view'].unique()"
   ]
  },
  {
   "cell_type": "code",
   "execution_count": 10,
   "id": "79b05d5c",
   "metadata": {},
   "outputs": [
    {
     "data": {
      "text/plain": [
       "array([nan, 'C', 'D', 'B', 'A'], dtype=object)"
      ]
     },
     "execution_count": 10,
     "metadata": {},
     "output_type": "execute_result"
    }
   ],
   "source": [
    "df['density'].unique()"
   ]
  },
  {
   "cell_type": "code",
   "execution_count": 11,
   "id": "b490e5af",
   "metadata": {},
   "outputs": [
    {
     "name": "stderr",
     "output_type": "stream",
     "text": [
      "C:\\Users\\Shreyas\\anaconda3\\lib\\site-packages\\seaborn\\_decorators.py:36: FutureWarning: Pass the following variable as a keyword arg: x. From version 0.12, the only valid positional argument will be `data`, and passing other arguments without an explicit keyword will result in an error or misinterpretation.\n",
      "  warnings.warn(\n"
     ]
    },
    {
     "data": {
      "text/plain": [
       "Text(0.5, 1.0, 'Distribution of views')"
      ]
     },
     "execution_count": 11,
     "metadata": {},
     "output_type": "execute_result"
    },
    {
     "data": {
      "image/png": "[encoded data removed]",
      "text/plain": [
       "<Figure size 640x480 with 1 Axes>"
      ]
     },
     "metadata": {},
     "output_type": "display_data"
    }
   ],
   "source": [
    "ax=sns.countplot(df['view'])\n",
    "for container in ax.containers:\n",
    "    ax.bar_label(container)\n",
    "plt.title('Distribution of views')"
   ]
  },
  {
   "cell_type": "code",
   "execution_count": 12,
   "id": "d5d19443",
   "metadata": {},
   "outputs": [
    {
     "name": "stderr",
     "output_type": "stream",
     "text": [
      "C:\\Users\\Shreyas\\anaconda3\\lib\\site-packages\\seaborn\\_decorators.py:36: FutureWarning: Pass the following variable as a keyword arg: x. From version 0.12, the only valid positional argument will be `data`, and passing other arguments without an explicit keyword will result in an error or misinterpretation.\n",
      "  warnings.warn(\n"
     ]
    },
    {
     "data": {
      "text/plain": [
       "Text(0.5, 1.0, 'Distribution of targets')"
      ]
     },
     "execution_count": 12,
     "metadata": {},
     "output_type": "execute_result"
    },
    {
     "data": {
      "image/png": "[encoded data removed]",
      "text/plain": [
       "<Figure size 640x480 with 1 Axes>"
      ]
     },
     "metadata": {},
     "output_type": "display_data"
    }
   ],
   "source": [
    "ax1=sns.countplot(df['cancer'])\n",
    "for container in ax1.containers:\n",
    "    ax1.bar_label(container)\n",
    "plt.title('Distribution of targets')"
   ]
  },
  {
   "cell_type": "code",
   "execution_count": 13,
   "id": "8eda6f1b",
   "metadata": {},
   "outputs": [
    {
     "name": "stderr",
     "output_type": "stream",
     "text": [
      "C:\\Users\\Shreyas\\anaconda3\\lib\\site-packages\\seaborn\\_decorators.py:36: FutureWarning: Pass the following variable as a keyword arg: x. From version 0.12, the only valid positional argument will be `data`, and passing other arguments without an explicit keyword will result in an error or misinterpretation.\n",
      "  warnings.warn(\n"
     ]
    },
    {
     "data": {
      "text/plain": [
       "Text(0.5, 1.0, 'Distribution of Density')"
      ]
     },
     "execution_count": 13,
     "metadata": {},
     "output_type": "execute_result"
    },
    {
     "data": {
      "image/png": "[encoded data removed]",
      "text/plain": [
       "<Figure size 640x480 with 1 Axes>"
      ]
     },
     "metadata": {},
     "output_type": "display_data"
    }
   ],
   "source": [
    "ax2=sns.countplot(df['density'])\n",
    "for container in ax2.containers:\n",
    "    ax2.bar_label(container)\n",
    "plt.title('Distribution of Density')"
   ]
  },
  {
   "cell_type": "code",
   "execution_count": 24,
   "id": "739fcd22",
   "metadata": {},
   "outputs": [
    {
     "name": "stderr",
     "output_type": "stream",
     "text": [
      "C:\\Users\\Shreyas\\anaconda3\\lib\\site-packages\\seaborn\\_decorators.py:36: FutureWarning: Pass the following variable as a keyword arg: x. From version 0.12, the only valid positional argument will be `data`, and passing other arguments without an explicit keyword will result in an error or misinterpretation.\n",
      "  warnings.warn(\n"
     ]
    },
    {
     "data": {
      "text/plain": [
       "Text(0.5, 1.0, 'Distribution of BIRADS')"
      ]
     },
     "execution_count": 24,
     "metadata": {},
     "output_type": "execute_result"
    },
    {
     "data": {
      "image/png": "[encoded data removed]",
      "text/plain": [
       "<Figure size 640x480 with 1 Axes>"
      ]
     },
     "metadata": {},
     "output_type": "display_data"
    }
   ],
   "source": [
    "ax3 = sns.countplot(df['BIRADS'])\n",
    "for container in ax3.containers:\n",
    "    ax3.bar_label(container)\n",
    "plt.title('Distribution of BIRADS')"
   ]
  }
 ],
 "metadata": {
  "kernelspec": {
   "display_name": "Python 3 (ipykernel)",
   "language": "python",
   "name": "python3"
  },
  "language_info": {
   "codemirror_mode": {
    "name": "ipython",
    "version": 3
   },
   "file_extension": ".py",
   "mimetype": "text/x-python",
   "name": "python",
   "nbconvert_exporter": "python",
   "pygments_lexer": "ipython3",
   "version": "3.9.13"
  }
 },
 "nbformat": 4,
 "nbformat_minor": 5
}

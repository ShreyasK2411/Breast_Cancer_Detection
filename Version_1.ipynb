{
 "cells": [
  {
   "cell_type": "code",
   "execution_count": null,
   "id": "0f2363cc",
   "metadata": {},
   "outputs": [],
   "source": [
    "# Implement code for configuring GPU and parallel processing for images\n",
    "# Implement code for creating testing, validation and training dataset using the\n",
    "# flow_from_dataframe API from tensorflow"
   ]
  },
  {
   "cell_type": "code",
   "execution_count": null,
   "id": "4ab5ebd7",
   "metadata": {},
   "outputs": [
    {
     "name": "stdout",
     "output_type": "stream",
     "text": [
      "Requirement already satisfied: tqdm in c:\\users\\shreyas\\appdata\\local\\programs\\python\\python310\\lib\\site-packages (4.64.1)\n",
      "Requirement already satisfied: colorama in c:\\users\\shreyas\\appdata\\roaming\\python\\python310\\site-packages (from tqdm) (0.4.5)\n"
     ]
    }
   ],
   "source": [
    "# !pip install tqdm\n",
    "# !pip install tensorflow"
   ]
  },
  {
   "cell_type": "code",
   "execution_count": 5,
   "id": "4b796b10",
   "metadata": {},
   "outputs": [],
   "source": [
    "import pandas as pd\n",
    "import os\n",
    "import shutil\n",
    "from tqdm.notebook import tqdm as tqdm\n",
    "import tensorflow as tf\n",
    "from sklearn.model_selection import train_test_split"
   ]
  },
  {
   "cell_type": "code",
   "execution_count": 20,
   "id": "e31ab3e9",
   "metadata": {},
   "outputs": [
    {
     "name": "stdout",
     "output_type": "stream",
     "text": [
      "Original shape: (54706, 14)\n"
     ]
    },
    {
     "data": {
      "text/html": [
       "<div>\n",
       "<style scoped>\n",
       "    .dataframe tbody tr th:only-of-type {\n",
       "        vertical-align: middle;\n",
       "    }\n",
       "\n",
       "    .dataframe tbody tr th {\n",
       "        vertical-align: top;\n",
       "    }\n",
       "\n",
       "    .dataframe thead th {\n",
       "        text-align: right;\n",
       "    }\n",
       "</style>\n",
       "<table border=\"1\" class=\"dataframe\">\n",
       "  <thead>\n",
       "    <tr style=\"text-align: right;\">\n",
       "      <th></th>\n",
       "      <th>filename</th>\n",
       "      <th>cancer</th>\n",
       "    </tr>\n",
       "  </thead>\n",
       "  <tbody>\n",
       "    <tr>\n",
       "      <th>0</th>\n",
       "      <td>10006_462822612.png</td>\n",
       "      <td>0</td>\n",
       "    </tr>\n",
       "    <tr>\n",
       "      <th>1</th>\n",
       "      <td>10006_1459541791.png</td>\n",
       "      <td>0</td>\n",
       "    </tr>\n",
       "    <tr>\n",
       "      <th>2</th>\n",
       "      <td>10006_1864590858.png</td>\n",
       "      <td>0</td>\n",
       "    </tr>\n",
       "    <tr>\n",
       "      <th>3</th>\n",
       "      <td>10006_1874946579.png</td>\n",
       "      <td>0</td>\n",
       "    </tr>\n",
       "    <tr>\n",
       "      <th>4</th>\n",
       "      <td>10011_220375232.png</td>\n",
       "      <td>0</td>\n",
       "    </tr>\n",
       "  </tbody>\n",
       "</table>\n",
       "</div>"
      ],
      "text/plain": [
       "               filename cancer\n",
       "0   10006_462822612.png      0\n",
       "1  10006_1459541791.png      0\n",
       "2  10006_1864590858.png      0\n",
       "3  10006_1874946579.png      0\n",
       "4   10011_220375232.png      0"
      ]
     },
     "execution_count": 20,
     "metadata": {},
     "output_type": "execute_result"
    }
   ],
   "source": [
    "df = pd.read_csv('D:/temp/train.csv',dtype=str)\n",
    "print(\"Original shape: {}\".format(df.shape))\n",
    "df['filename'] = [\"\".join([str(df['patient_id'][i]),'_',str(df['image_id'][i]),'.png']) \\\n",
    "                  for i in range(len(df))]\n",
    "df = df.loc[:,['filename','cancer']]\n",
    "df.head()"
   ]
  },
  {
   "cell_type": "code",
   "execution_count": 21,
   "id": "06c8c9a1",
   "metadata": {},
   "outputs": [
    {
     "data": {
      "text/plain": [
       "array(['0', '1'], dtype=object)"
      ]
     },
     "execution_count": 21,
     "metadata": {},
     "output_type": "execute_result"
    }
   ],
   "source": [
    "df['cancer'].unique()"
   ]
  },
  {
   "cell_type": "code",
   "execution_count": 3,
   "id": "6f5bb338",
   "metadata": {},
   "outputs": [],
   "source": [
    "def load_img(path):\n",
    "    \n",
    "    img = tf.io.read_file(path)\n",
    "    img = tf.image.decode_png(img, channels = 1)\n",
    "    img = tf.image.resize(img, [IMAGE_SIZE, IMAGE_SIZE])\n",
    "    img = tf.cast(img, dtype = tf.float32)\n",
    "    img = img/255.0\n",
    "    return img"
   ]
  },
  {
   "cell_type": "code",
   "execution_count": 22,
   "id": "c1d17b35",
   "metadata": {},
   "outputs": [
    {
     "name": "stdout",
     "output_type": "stream",
     "text": [
      "Found 54706 validated image filenames belonging to 2 classes.\n"
     ]
    },
    {
     "data": {
      "text/plain": [
       "<keras.preprocessing.image.DataFrameIterator at 0x219abbd7f10>"
      ]
     },
     "execution_count": 22,
     "metadata": {},
     "output_type": "execute_result"
    }
   ],
   "source": [
    "path = 'D:/temp/train_new/'\n",
    "IMAGE_SIZE=256\n",
    "datagen = tf.keras.preprocessing.image.ImageDataGenerator(\n",
    "    rescale=1. / 255,\n",
    "    shear_range=0.2,\n",
    "    zoom_range=0.2,\n",
    "    horizontal_flip=True)\n",
    "datagen.flow_from_dataframe(df,\n",
    "    directory=path,\n",
    "    x_col='filename',\n",
    "    y_col='cancer',\n",
    "    weight_col=None,\n",
    "    target_size=(IMAGE_SIZE, IMAGE_SIZE),\n",
    "    color_mode='rgb',\n",
    "    class_mode='binary',\n",
    "    batch_size=10,\n",
    "    shuffle=True,\n",
    "    save_format='png',\n",
    "    subset='training',\n",
    "    interpolation='nearest',\n",
    "    validate_filenames=True,\n",
    ")\n",
    "# x_train,x_test,y_train,y_test = train_test_split(df.filename,df.cancer,stratify=df.cancer,test=0.20)\n",
    "# model.fit(datagen.flow(x_train, y_train, batch_size=32,\n",
    "#          subset='training'),\n",
    "#          validation_data=datagen.flow(x_train, y_train,\n",
    "#          batch_size=8, subset='validation'),\n",
    "#          steps_per_epoch=len(x_train) / 32, epochs=epochs)"
   ]
  }
 ],
 "metadata": {
  "kernelspec": {
   "display_name": "Python 3 (ipykernel)",
   "language": "python",
   "name": "python3"
  },
  "language_info": {
   "codemirror_mode": {
    "name": "ipython",
    "version": 3
   },
   "file_extension": ".py",
   "mimetype": "text/x-python",
   "name": "python",
   "nbconvert_exporter": "python",
   "pygments_lexer": "ipython3",
   "version": "3.9.13"
  }
 },
 "nbformat": 4,
 "nbformat_minor": 5
}

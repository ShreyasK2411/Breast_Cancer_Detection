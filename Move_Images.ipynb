{
 "cells": [
  {
   "cell_type": "code",
   "execution_count": 7,
   "id": "71d2914d",
   "metadata": {},
   "outputs": [
    {
     "data": {
      "application/vnd.jupyter.widget-view+json": {
       "model_id": "410b35811ea04c0d89c93c840ee9f74e",
       "version_major": 2,
       "version_minor": 0
      },
      "text/plain": [
       "  0%|                                                                                        | 0/54706 [00:00<…"
      ]
     },
     "metadata": {},
     "output_type": "display_data"
    }
   ],
   "source": [
    "import os\n",
    "import pandas as pd\n",
    "from tqdm.notebook import tqdm as tqdm\n",
    "import shutil\n",
    "\n",
    "df=pd.read_csv('D:/Project_data/train.csv')\n",
    "total_rows=range(len(df))\n",
    "ip_folder=\"D:/temp/train_images/\"\n",
    "op_folder = 'D:/temp/train_new/'\n",
    "\n",
    "for row in tqdm(total_rows, dynamic_ncols=True):\n",
    "    origin = ip_folder + str(df['patient_id'][row]) + '/' +str(df['image_id'][row]) + \".png\"\n",
    "    target = op_folder + str(df['patient_id'][row]) + '_' +str(df['image_id'][row]) + \".png\"\n",
    "    shutil.copy2(origin,target)"
   ]
  }
 ],
 "metadata": {
  "kernelspec": {
   "display_name": "Python 3 (ipykernel)",
   "language": "python",
   "name": "python3"
  },
  "language_info": {
   "codemirror_mode": {
    "name": "ipython",
    "version": 3
   },
   "file_extension": ".py",
   "mimetype": "text/x-python",
   "name": "python",
   "nbconvert_exporter": "python",
   "pygments_lexer": "ipython3",
   "version": "3.9.13"
  }
 },
 "nbformat": 4,
 "nbformat_minor": 5
}

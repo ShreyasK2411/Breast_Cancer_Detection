{
 "cells": [
  {
   "cell_type": "code",
   "execution_count": 1,
   "id": "78f274f2",
   "metadata": {},
   "outputs": [
    {
     "data": {
      "application/vnd.jupyter.widget-view+json": {
       "model_id": "a366f73ad8754d76882b43df57ac1377",
       "version_major": 2,
       "version_minor": 0
      },
      "text/plain": [
       "  0%|                                                                                            | 0/4 [00:00<…"
      ]
     },
     "metadata": {},
     "output_type": "display_data"
    }
   ],
   "source": [
    "import cv2\n",
    "import numpy as np\n",
    "import os\n",
    "import pandas as pd\n",
    "import pydicom\n",
    "\n",
    "from pydicom.pixel_data_handlers.util import apply_voi_lut\n",
    "from tqdm.notebook import tqdm as tqdm\n",
    "import warnings\n",
    "warnings.filterwarnings('ignore')\n",
    "\n",
    "class Convert:\n",
    "        def __init__(self,ip_path:str):\n",
    "            self.ip_path=ip_path\n",
    "            \n",
    "        def read_img(self,patient_id:str,img_id: str,voi_lut: bool=False,fix_monochrome: bool=True):\n",
    "            #reading the image\n",
    "            dicom = pydicom.read_file(os.path.join(self.ip_path,patient_id,img_id+\".dcm\"))\n",
    "\n",
    "            # VOI LUT (if available by DICOM device) is used to transform raw DICOM data to \"human-friendly\" view\n",
    "            if voi_lut:\n",
    "                data = apply_voi_lut(dicom.pixel_array, dicom)\n",
    "            else:\n",
    "                data = dicom.pixel_array\n",
    "\n",
    "            # depending on this value, X-ray may look inverted - fix that:\n",
    "            # i.e. to ensure consistent color for cancer and rest of the image\n",
    "            if fix_monochrome and dicom.PhotometricInterpretation == \"MONOCHROME1\":\n",
    "                data = np.amax(data) - data\n",
    "\n",
    "            data = data - np.min(data)\n",
    "            data = data / np.max(data)\n",
    "            \n",
    "            data = (data * 255).astype(np.uint8)\n",
    "\n",
    "            return data\n",
    "\n",
    "        def resize_img(self,img: np.array,image_size: int):\n",
    "            height, width = img.shape\n",
    "            scale = image_size / min(width, height)\n",
    "            w = int(width * scale + 0.5)\n",
    "            h = int(height * scale + 0.5)\n",
    "\n",
    "            if scale > 1.0:\n",
    "                interpolation=cv2.INTER_CUBIC\n",
    "            else:\n",
    "                interpolation=cv2.INTER_AREA\n",
    "\n",
    "            return cv2.resize(img, (w, h), interpolation=interpolation)\n",
    "    \n",
    "if __name__ == \"__main__\":\n",
    "    op_folder=\"D:/temp/test_new/\"\n",
    "    convert=Convert(\"D://Project_data//test_images/\")\n",
    "    df=pd.read_csv('D:/Project_data/test.csv') \n",
    "    total_rows=range(len(df))\n",
    "    size=512\n",
    "    \n",
    "    if not os.path.exists(op_folder):\n",
    "        os.mkdir(op_folder)\n",
    "    \n",
    "    for row in tqdm(total_rows, dynamic_ncols=True):\n",
    "        img=convert.read_img(str(df['patient_id'][row]),str(df['image_id'][row]))\n",
    "\n",
    "        cv2.imwrite(op_folder+str(df['patient_id'][row])+'_'+str(df['image_id'][row])+\".png\", \n",
    "                    convert.resize_img(img,size))\n",
    "    "
   ]
  }
 ],
 "metadata": {
  "kernelspec": {
   "display_name": "Python 3 (ipykernel)",
   "language": "python",
   "name": "python3"
  },
  "language_info": {
   "codemirror_mode": {
    "name": "ipython",
    "version": 3
   },
   "file_extension": ".py",
   "mimetype": "text/x-python",
   "name": "python",
   "nbconvert_exporter": "python",
   "pygments_lexer": "ipython3",
   "version": "3.9.13"
  }
 },
 "nbformat": 4,
 "nbformat_minor": 5
}
